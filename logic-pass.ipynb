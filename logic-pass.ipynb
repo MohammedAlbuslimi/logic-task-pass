{
 "cells": [
  {
   "cell_type": "code",
   "execution_count": 27,
   "id": "d3e78b64",
   "metadata": {},
   "outputs": [],
   "source": [
    "a= \"mohammed\""
   ]
  },
  {
   "cell_type": "code",
   "execution_count": 28,
   "id": "47cb13d4",
   "metadata": {},
   "outputs": [
    {
     "name": "stdout",
     "output_type": "stream",
     "text": [
      "mohammed\n"
     ]
    }
   ],
   "source": [
    "print(a)"
   ]
  },
  {
   "cell_type": "code",
   "execution_count": 29,
   "id": "20cbdcc2",
   "metadata": {},
   "outputs": [],
   "source": [
    "b= a.replace(\"d\",\"\")"
   ]
  },
  {
   "cell_type": "code",
   "execution_count": 30,
   "id": "b91ac927",
   "metadata": {
    "scrolled": false
   },
   "outputs": [
    {
     "name": "stdout",
     "output_type": "stream",
     "text": [
      "mohamme\n"
     ]
    }
   ],
   "source": [
    "print(b)"
   ]
  },
  {
   "cell_type": "code",
   "execution_count": 31,
   "id": "e97c8949",
   "metadata": {},
   "outputs": [
    {
     "name": "stdout",
     "output_type": "stream",
     "text": [
      "1 3 5 7 9 \n"
     ]
    }
   ],
   "source": [
    "# printing a number\n",
    "for i in range(1,10,2):\n",
    "\tprint(i, end=\" \")\n",
    "print()\n"
   ]
  },
  {
   "cell_type": "code",
   "execution_count": 36,
   "id": "83103bd5",
   "metadata": {},
   "outputs": [],
   "source": [
    "def find_duplicate():\n",
    "    x =input(\"Enter a word = \")\n",
    "    for char in x :\n",
    "        counts=x.count(char)\n",
    "        while counts > 1:\n",
    "            return print(char,counts)"
   ]
  },
  {
   "cell_type": "code",
   "execution_count": 38,
   "id": "383895a8",
   "metadata": {},
   "outputs": [
    {
     "name": "stdout",
     "output_type": "stream",
     "text": [
      "Enter a word = mohammed\n",
      "m 3\n",
      "None\n"
     ]
    }
   ],
   "source": [
    "print (find_duplicate())"
   ]
  }
 ],
 "metadata": {
  "kernelspec": {
   "display_name": "Python 3 (ipykernel)",
   "language": "python",
   "name": "python3"
  },
  "language_info": {
   "codemirror_mode": {
    "name": "ipython",
    "version": 3
   },
   "file_extension": ".py",
   "mimetype": "text/x-python",
   "name": "python",
   "nbconvert_exporter": "python",
   "pygments_lexer": "ipython3",
   "version": "3.9.12"
  }
 },
 "nbformat": 4,
 "nbformat_minor": 5
}
